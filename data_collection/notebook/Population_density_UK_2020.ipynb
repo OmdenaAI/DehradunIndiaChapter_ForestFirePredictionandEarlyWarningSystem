{
  "nbformat": 4,
  "nbformat_minor": 0,
  "metadata": {
    "colab": {
      "provenance": []
    },
    "kernelspec": {
      "name": "python3",
      "display_name": "Python 3"
    },
    "language_info": {
      "name": "python"
    }
  },
  "cells": [
    {
      "cell_type": "markdown",
      "source": [
        "## Population density data for 2020\n",
        "************************************************************\n",
        "### Date: 4th Dec 2024\n",
        "### Authored by: Priyanka N\n",
        "************************************************************\n",
        "1. This notebook first clips the image for population density for Uttarakhand from the image for India.\n",
        "2. The TIF file has been downloaded from https://hub.worldpop.org/geodata/summary?id=41746 for India for the year 2020.\n",
        "3. Viewing the tif file for Uttarakhand.\n"
      ],
      "metadata": {
        "id": "oj4IAnTPiLSU"
      }
    },
    {
      "cell_type": "code",
      "source": [
        "!pip install rasterio --q"
      ],
      "metadata": {
        "id": "HVliMAV2TpVS"
      },
      "execution_count": 1,
      "outputs": []
    },
    {
      "cell_type": "code",
      "source": [
        "import geopandas as gpd\n",
        "import rasterio\n",
        "from rasterio.mask import mask\n",
        "import os"
      ],
      "metadata": {
        "id": "K8XsPD7yS5PT"
      },
      "execution_count": 2,
      "outputs": []
    },
    {
      "cell_type": "code",
      "source": [
        "# Paths to the input files\n",
        "raster_path = \"/content/drive/MyDrive/Colab Notebooks/Forest_fire_prediction/ind_pd_2020_1km.tif\"\n",
        "shapefile_path = \"/content/drive/MyDrive/Colab Notebooks/Forest_fire_prediction/Uttarakhand/uttarakhand_WGS1984.shp\"\n",
        "output_path = \"/content/drive/MyDrive/Colab Notebooks/Forest_fire_prediction/uttarakhand_pd_2020.tif\""
      ],
      "metadata": {
        "id": "ShwjeOZBS_ol"
      },
      "execution_count": 4,
      "outputs": []
    },
    {
      "cell_type": "code",
      "source": [
        "# Load the shapefile\n",
        "shapefile = gpd.read_file(shapefile_path)"
      ],
      "metadata": {
        "id": "Su7pCtCYS-VJ"
      },
      "execution_count": 5,
      "outputs": []
    },
    {
      "cell_type": "code",
      "execution_count": 6,
      "metadata": {
        "id": "2Ul4WlOXSuA_"
      },
      "outputs": [],
      "source": [
        "# Ensure the shapefile's CRS matches the raster's CRS\n",
        "with rasterio.open(raster_path) as src:\n",
        "    raster_crs = src.crs\n",
        "    if shapefile.crs != raster_crs:\n",
        "        shapefile = shapefile.to_crs(raster_crs)\n",
        "\n",
        "# Extract the geometry of the state (shapefile)\n",
        "geometries = shapefile.geometry"
      ]
    },
    {
      "cell_type": "code",
      "source": [
        "geometries"
      ],
      "metadata": {
        "colab": {
          "base_uri": "https://localhost:8080/",
          "height": 115
        },
        "id": "Y7bKb_K_TyLq",
        "outputId": "7fdc69f8-09f6-4801-ffe1-6abc4c12e68a"
      },
      "execution_count": 7,
      "outputs": [
        {
          "output_type": "execute_result",
          "data": {
            "text/plain": [
              "0    POLYGON ((79.25028 31.25536, 79.25115 31.24991...\n",
              "Name: geometry, dtype: geometry"
            ],
            "text/html": [
              "<div>\n",
              "<style scoped>\n",
              "    .dataframe tbody tr th:only-of-type {\n",
              "        vertical-align: middle;\n",
              "    }\n",
              "\n",
              "    .dataframe tbody tr th {\n",
              "        vertical-align: top;\n",
              "    }\n",
              "\n",
              "    .dataframe thead th {\n",
              "        text-align: right;\n",
              "    }\n",
              "</style>\n",
              "<table border=\"1\" class=\"dataframe\">\n",
              "  <thead>\n",
              "    <tr style=\"text-align: right;\">\n",
              "      <th></th>\n",
              "      <th>geometry</th>\n",
              "    </tr>\n",
              "  </thead>\n",
              "  <tbody>\n",
              "    <tr>\n",
              "      <th>0</th>\n",
              "      <td>POLYGON ((79.25028 31.25536, 79.25115 31.24991...</td>\n",
              "    </tr>\n",
              "  </tbody>\n",
              "</table>\n",
              "</div><br><label><b>dtype:</b> geometry</label>"
            ]
          },
          "metadata": {},
          "execution_count": 7
        }
      ]
    },
    {
      "cell_type": "code",
      "source": [
        "shapefile.crs"
      ],
      "metadata": {
        "colab": {
          "base_uri": "https://localhost:8080/"
        },
        "id": "2GsvEsdoT0O3",
        "outputId": "2fc4a1d8-60e6-42d4-92c6-eb73685de69c"
      },
      "execution_count": 8,
      "outputs": [
        {
          "output_type": "execute_result",
          "data": {
            "text/plain": [
              "<Geographic 2D CRS: EPSG:4326>\n",
              "Name: WGS 84\n",
              "Axis Info [ellipsoidal]:\n",
              "- Lat[north]: Geodetic latitude (degree)\n",
              "- Lon[east]: Geodetic longitude (degree)\n",
              "Area of Use:\n",
              "- name: World.\n",
              "- bounds: (-180.0, -90.0, 180.0, 90.0)\n",
              "Datum: World Geodetic System 1984 ensemble\n",
              "- Ellipsoid: WGS 84\n",
              "- Prime Meridian: Greenwich"
            ]
          },
          "metadata": {},
          "execution_count": 8
        }
      ]
    },
    {
      "cell_type": "code",
      "source": [
        "# Crop the raster using the shapefile geometry\n",
        "with rasterio.open(raster_path) as src:\n",
        "    print(\"The CRS of the file is:\", src.crs)\n",
        "    # Mask the raster with the geometry\n",
        "    out_image, out_transform = mask(src, geometries, crop=True)\n",
        "\n",
        "    # Update the metadata\n",
        "    out_meta = src.meta.copy()\n",
        "    out_meta.update({\n",
        "        \"driver\": \"GTiff\",\n",
        "        \"height\": out_image.shape[1],\n",
        "        \"width\": out_image.shape[2],\n",
        "        \"transform\": out_transform\n",
        "    })\n",
        "\n",
        "    # Save the cropped raster to a new file\n",
        "    with rasterio.open(output_path, \"w\", **out_meta) as dest:\n",
        "        dest.write(out_image)\n",
        "\n",
        "print(f\"Cropped raster saved to {output_path}\")\n"
      ],
      "metadata": {
        "colab": {
          "base_uri": "https://localhost:8080/"
        },
        "id": "BKHvw-BsTGjU",
        "outputId": "2fd9d0ef-1c4d-4199-fdef-36d29cf56eb8"
      },
      "execution_count": 10,
      "outputs": [
        {
          "output_type": "stream",
          "name": "stdout",
          "text": [
            "The CRS of the file is: EPSG:4326\n",
            "Cropped raster saved to /content/drive/MyDrive/Colab Notebooks/Forest_fire_prediction/uttarakhand_pd_2020.tif\n"
          ]
        }
      ]
    },
    {
      "cell_type": "code",
      "source": [
        "import matplotlib.pyplot as plt\n",
        "\n",
        "# Path to the .tif file\n",
        "tif_file_path = \"/content/drive/MyDrive/Colab Notebooks/Forest_fire_prediction/uttarakhand_pd_2020.tif\"\n",
        "\n",
        "# Read the .tif file\n",
        "with rasterio.open(tif_file_path) as src:\n",
        "    # Read the first band of the raster\n",
        "    data = src.read(1)  # Change to src.read(n) for nth band\n",
        "    # Get metadata for reference\n",
        "    metadata = src.meta\n",
        "\n",
        "# Display metadata (optional)\n",
        "print(\"Raster Metadata:\")\n",
        "print(metadata)\n",
        "\n",
        "# Plot the raster\n",
        "plt.figure(figsize=(10, 8))\n",
        "plt.imshow(data, cmap='viridis')  # Choose a suitable colormap like 'viridis', 'gray', etc.\n",
        "plt.colorbar(label='Pixel Values')\n",
        "plt.title(\"Raster Image\")\n",
        "plt.xlabel(\"Column Index\")\n",
        "plt.ylabel(\"Row Index\")\n",
        "plt.show()\n"
      ],
      "metadata": {
        "colab": {
          "base_uri": "https://localhost:8080/",
          "height": 725
        },
        "id": "6ce3xqzNUFGe",
        "outputId": "07bb3c71-0dfe-49f5-ed21-e69e1b89f10d"
      },
      "execution_count": 3,
      "outputs": [
        {
          "output_type": "stream",
          "name": "stdout",
          "text": [
            "Raster Metadata:\n",
            "{'driver': 'GTiff', 'dtype': 'float32', 'nodata': -99999.0, 'width': 418, 'height': 330, 'count': 1, 'crs': CRS.from_wkt('GEOGCS[\"WGS 84\",DATUM[\"WGS_1984\",SPHEROID[\"WGS 84\",6378137,298.257223563,AUTHORITY[\"EPSG\",\"7030\"]],AUTHORITY[\"EPSG\",\"6326\"]],PRIMEM[\"Greenwich\",0,AUTHORITY[\"EPSG\",\"8901\"]],UNIT[\"degree\",0.0174532925199433,AUTHORITY[\"EPSG\",\"9122\"]],AXIS[\"Latitude\",NORTH],AXIS[\"Longitude\",EAST],AUTHORITY[\"EPSG\",\"4326\"]]'), 'transform': Affine(0.0083333333, 0.0, 77.56541636397596,\n",
            "       0.0, -0.0083333333, 31.466250067128165)}\n"
          ]
        },
        {
          "output_type": "display_data",
          "data": {
            "text/plain": [
              "<Figure size 1000x800 with 2 Axes>"
            ],
            "image/png": "[encoded data removed]"
          },
          "metadata": {}
        }
      ]
    },
    {
      "cell_type": "code",
      "source": [
        "import pandas as pd\n",
        "# Read the .tif file\n",
        "with rasterio.open(tif_file_path) as src:\n",
        "    # Read the first band\n",
        "    data = src.read(1)  # Assuming single-band raster\n",
        "    # Get the transform to calculate geographic coordinates\n",
        "    transform = src.transform\n",
        "\n",
        "# Convert raster values to a table\n",
        "rows, cols = data.shape\n",
        "values = []\n",
        "\n",
        "for row in range(rows):\n",
        "    for col in range(cols):\n",
        "        # Get the raster value\n",
        "        value = data[row, col]\n",
        "        # Get the geographic coordinates (if needed)\n",
        "        x, y = rasterio.transform.xy(transform, row, col, offset='center')\n",
        "        # Append as a record\n",
        "        values.append((row, col, x, y, value))\n",
        "\n",
        "# Create a Pandas DataFrame\n",
        "df = pd.DataFrame(values, columns=[\"Row\", \"Col\", \"Longitude\", \"Latitude\", \"Value\"])\n",
        "\n",
        "# Display the DataFrame\n",
        "print(df.head())  # Show the first few rows"
      ],
      "metadata": {
        "colab": {
          "base_uri": "https://localhost:8080/"
        },
        "id": "9CnIRDxgU8iA",
        "outputId": "67184b1b-5f0a-4997-fa94-64e78578b139"
      },
      "execution_count": 4,
      "outputs": [
        {
          "output_type": "stream",
          "name": "stdout",
          "text": [
            "   Row  Col  Longitude   Latitude    Value\n",
            "0    0    0  77.569583  31.462083 -99999.0\n",
            "1    0    1  77.577916  31.462083 -99999.0\n",
            "2    0    2  77.586250  31.462083 -99999.0\n",
            "3    0    3  77.594583  31.462083 -99999.0\n",
            "4    0    4  77.602916  31.462083 -99999.0\n"
          ]
        }
      ]
    },
    {
      "cell_type": "code",
      "source": [
        "df.info()"
      ],
      "metadata": {
        "colab": {
          "base_uri": "https://localhost:8080/"
        },
        "id": "68NK6MCmZL1O",
        "outputId": "4b6b1a82-2892-4547-d43c-fc96fa67bf8f"
      },
      "execution_count": 5,
      "outputs": [
        {
          "output_type": "stream",
          "name": "stdout",
          "text": [
            "<class 'pandas.core.frame.DataFrame'>\n",
            "RangeIndex: 137940 entries, 0 to 137939\n",
            "Data columns (total 5 columns):\n",
            " #   Column     Non-Null Count   Dtype  \n",
            "---  ------     --------------   -----  \n",
            " 0   Row        137940 non-null  int64  \n",
            " 1   Col        137940 non-null  int64  \n",
            " 2   Longitude  137940 non-null  float64\n",
            " 3   Latitude   137940 non-null  float64\n",
            " 4   Value      137940 non-null  float32\n",
            "dtypes: float32(1), float64(2), int64(2)\n",
            "memory usage: 4.7 MB\n"
          ]
        }
      ]
    },
    {
      "cell_type": "code",
      "source": [
        "df.describe().T"
      ],
      "metadata": {
        "colab": {
          "base_uri": "https://localhost:8080/",
          "height": 206
        },
        "id": "ceu3NCgwZbu_",
        "outputId": "77490eca-ae66-4c33-b056-0e78ae96a102"
      },
      "execution_count": 7,
      "outputs": [
        {
          "output_type": "execute_result",
          "data": {
            "text/plain": [
              "              count          mean           std           min          25%  \\\n",
              "Row        137940.0    164.500000     95.262702      0.000000     82.00000   \n",
              "Col        137940.0    208.500000    120.666298      0.000000    104.00000   \n",
              "Longitude  137940.0     79.307083      1.005552     77.569583     78.43625   \n",
              "Latitude   137940.0     30.091250      0.793856     28.720417     29.40375   \n",
              "Value      137940.0 -47932.484375  50094.835938 -99999.000000 -99999.00000   \n",
              "\n",
              "                  50%         75%           max  \n",
              "Row        164.500000  247.000000    329.000000  \n",
              "Col        208.500000  313.000000    417.000000  \n",
              "Longitude   79.307083   80.177916     81.044583  \n",
              "Latitude    30.091250   30.778750     31.462083  \n",
              "Value        1.308423   97.088512  21713.554688  "
            ],
            "text/html": [
              "\n",
              "  <div id=\"df-dacf1eb2-2d3a-46df-a9d9-96a00b3e94f0\" class=\"colab-df-container\">\n",
              "    <div>\n",
              "<style scoped>\n",
              "    .dataframe tbody tr th:only-of-type {\n",
              "        vertical-align: middle;\n",
              "    }\n",
              "\n",
              "    .dataframe tbody tr th {\n",
              "        vertical-align: top;\n",
              "    }\n",
              "\n",
              "    .dataframe thead th {\n",
              "        text-align: right;\n",
              "    }\n",
              "</style>\n",
              "<table border=\"1\" class=\"dataframe\">\n",
              "  <thead>\n",
              "    <tr style=\"text-align: right;\">\n",
              "      <th></th>\n",
              "      <th>count</th>\n",
              "      <th>mean</th>\n",
              "      <th>std</th>\n",
              "      <th>min</th>\n",
              "      <th>25%</th>\n",
              "      <th>50%</th>\n",
              "      <th>75%</th>\n",
              "      <th>max</th>\n",
              "    </tr>\n",
              "  </thead>\n",
              "  <tbody>\n",
              "    <tr>\n",
              "      <th>Row</th>\n",
              "      <td>137940.0</td>\n",
              "      <td>164.500000</td>\n",
              "      <td>95.262702</td>\n",
              "      <td>0.000000</td>\n",
              "      <td>82.00000</td>\n",
              "      <td>164.500000</td>\n",
              "      <td>247.000000</td>\n",
              "      <td>329.000000</td>\n",
              "    </tr>\n",
              "    <tr>\n",
              "      <th>Col</th>\n",
              "      <td>137940.0</td>\n",
              "      <td>208.500000</td>\n",
              "      <td>120.666298</td>\n",
              "      <td>0.000000</td>\n",
              "      <td>104.00000</td>\n",
              "      <td>208.500000</td>\n",
              "      <td>313.000000</td>\n",
              "      <td>417.000000</td>\n",
              "    </tr>\n",
              "    <tr>\n",
              "      <th>Longitude</th>\n",
              "      <td>137940.0</td>\n",
              "      <td>79.307083</td>\n",
              "      <td>1.005552</td>\n",
              "      <td>77.569583</td>\n",
              "      <td>78.43625</td>\n",
              "      <td>79.307083</td>\n",
              "      <td>80.177916</td>\n",
              "      <td>81.044583</td>\n",
              "    </tr>\n",
              "    <tr>\n",
              "      <th>Latitude</th>\n",
              "      <td>137940.0</td>\n",
              "      <td>30.091250</td>\n",
              "      <td>0.793856</td>\n",
              "      <td>28.720417</td>\n",
              "      <td>29.40375</td>\n",
              "      <td>30.091250</td>\n",
              "      <td>30.778750</td>\n",
              "      <td>31.462083</td>\n",
              "    </tr>\n",
              "    <tr>\n",
              "      <th>Value</th>\n",
              "      <td>137940.0</td>\n",
              "      <td>-47932.484375</td>\n",
              "      <td>50094.835938</td>\n",
              "      <td>-99999.000000</td>\n",
              "      <td>-99999.00000</td>\n",
              "      <td>1.308423</td>\n",
              "      <td>97.088512</td>\n",
              "      <td>21713.554688</td>\n",
              "    </tr>\n",
              "  </tbody>\n",
              "</table>\n",
              "</div>\n",
              "    <div class=\"colab-df-buttons\">\n",
              "\n",
              "  <div class=\"colab-df-container\">\n",
              "    <button class=\"colab-df-convert\" onclick=\"convertToInteractive('df-dacf1eb2-2d3a-46df-a9d9-96a00b3e94f0')\"\n",
              "            title=\"Convert this dataframe to an interactive table.\"\n",
              "            style=\"display:none;\">\n",
              "\n",
              "  <svg xmlns=\"http://www.w3.org/2000/svg\" height=\"24px\" viewBox=\"0 -960 960 960\">\n",
              "    <path d=\"M120-120v-720h720v720H120Zm60-500h600v-160H180v160Zm220 220h160v-160H400v160Zm0 220h160v-160H400v160ZM180-400h160v-160H180v160Zm440 0h160v-160H620v160ZM180-180h160v-160H180v160Zm440 0h160v-160H620v160Z\"/>\n",
              "  </svg>\n",
              "    </button>\n",
              "\n",
              "  <style>\n",
              "    .colab-df-container {\n",
              "      display:flex;\n",
              "      gap: 12px;\n",
              "    }\n",
              "\n",
              "    .colab-df-convert {\n",
              "      background-color: #E8F0FE;\n",
              "      border: none;\n",
              "      border-radius: 50%;\n",
              "      cursor: pointer;\n",
              "      display: none;\n",
              "      fill: #1967D2;\n",
              "      height: 32px;\n",
              "      padding: 0 0 0 0;\n",
              "      width: 32px;\n",
              "    }\n",
              "\n",
              "    .colab-df-convert:hover {\n",
              "      background-color: #E2EBFA;\n",
              "      box-shadow: 0px 1px 2px rgba(60, 64, 67, 0.3), 0px 1px 3px 1px rgba(60, 64, 67, 0.15);\n",
              "      fill: #174EA6;\n",
              "    }\n",
              "\n",
              "    .colab-df-buttons div {\n",
              "      margin-bottom: 4px;\n",
              "    }\n",
              "\n",
              "    [theme=dark] .colab-df-convert {\n",
              "      background-color: #3B4455;\n",
              "      fill: #D2E3FC;\n",
              "    }\n",
              "\n",
              "    [theme=dark] .colab-df-convert:hover {\n",
              "      background-color: #434B5C;\n",
              "      box-shadow: 0px 1px 3px 1px rgba(0, 0, 0, 0.15);\n",
              "      filter: drop-shadow(0px 1px 2px rgba(0, 0, 0, 0.3));\n",
              "      fill: #FFFFFF;\n",
              "    }\n",
              "  </style>\n",
              "\n",
              "    <script>\n",
              "      const buttonEl =\n",
              "        document.querySelector('#df-dacf1eb2-2d3a-46df-a9d9-96a00b3e94f0 button.colab-df-convert');\n",
              "      buttonEl.style.display =\n",
              "        google.colab.kernel.accessAllowed ? 'block' : 'none';\n",
              "\n",
              "      async function convertToInteractive(key) {\n",
              "        const element = document.querySelector('#df-dacf1eb2-2d3a-46df-a9d9-96a00b3e94f0');\n",
              "        const dataTable =\n",
              "          await google.colab.kernel.invokeFunction('convertToInteractive',\n",
              "                                                    [key], {});\n",
              "        if (!dataTable) return;\n",
              "\n",
              "        const docLinkHtml = 'Like what you see? Visit the ' +\n",
              "          '<a target=\"_blank\" href=https://colab.research.google.com/notebooks/data_table.ipynb>data table notebook</a>'\n",
              "          + ' to learn more about interactive tables.';\n",
              "        element.innerHTML = '';\n",
              "        dataTable['output_type'] = 'display_data';\n",
              "        await google.colab.output.renderOutput(dataTable, element);\n",
              "        const docLink = document.createElement('div');\n",
              "        docLink.innerHTML = docLinkHtml;\n",
              "        element.appendChild(docLink);\n",
              "      }\n",
              "    </script>\n",
              "  </div>\n",
              "\n",
              "\n",
              "<div id=\"df-08a175e1-0832-44fd-9084-b0ac8acecfce\">\n",
              "  <button class=\"colab-df-quickchart\" onclick=\"quickchart('df-08a175e1-0832-44fd-9084-b0ac8acecfce')\"\n",
              "            title=\"Suggest charts\"\n",
              "            style=\"display:none;\">\n",
              "\n",
              "<svg xmlns=\"http://www.w3.org/2000/svg\" height=\"24px\"viewBox=\"0 0 24 24\"\n",
              "     width=\"24px\">\n",
              "    <g>\n",
              "        <path d=\"M19 3H5c-1.1 0-2 .9-2 2v14c0 1.1.9 2 2 2h14c1.1 0 2-.9 2-2V5c0-1.1-.9-2-2-2zM9 17H7v-7h2v7zm4 0h-2V7h2v10zm4 0h-2v-4h2v4z\"/>\n",
              "    </g>\n",
              "</svg>\n",
              "  </button>\n",
              "\n",
              "<style>\n",
              "  .colab-df-quickchart {\n",
              "      --bg-color: #E8F0FE;\n",
              "      --fill-color: #1967D2;\n",
              "      --hover-bg-color: #E2EBFA;\n",
              "      --hover-fill-color: #174EA6;\n",
              "      --disabled-fill-color: #AAA;\n",
              "      --disabled-bg-color: #DDD;\n",
              "  }\n",
              "\n",
              "  [theme=dark] .colab-df-quickchart {\n",
              "      --bg-color: #3B4455;\n",
              "      --fill-color: #D2E3FC;\n",
              "      --hover-bg-color: #434B5C;\n",
              "      --hover-fill-color: #FFFFFF;\n",
              "      --disabled-bg-color: #3B4455;\n",
              "      --disabled-fill-color: #666;\n",
              "  }\n",
              "\n",
              "  .colab-df-quickchart {\n",
              "    background-color: var(--bg-color);\n",
              "    border: none;\n",
              "    border-radius: 50%;\n",
              "    cursor: pointer;\n",
              "    display: none;\n",
              "    fill: var(--fill-color);\n",
              "    height: 32px;\n",
              "    padding: 0;\n",
              "    width: 32px;\n",
              "  }\n",
              "\n",
              "  .colab-df-quickchart:hover {\n",
              "    background-color: var(--hover-bg-color);\n",
              "    box-shadow: 0 1px 2px rgba(60, 64, 67, 0.3), 0 1px 3px 1px rgba(60, 64, 67, 0.15);\n",
              "    fill: var(--button-hover-fill-color);\n",
              "  }\n",
              "\n",
              "  .colab-df-quickchart-complete:disabled,\n",
              "  .colab-df-quickchart-complete:disabled:hover {\n",
              "    background-color: var(--disabled-bg-color);\n",
              "    fill: var(--disabled-fill-color);\n",
              "    box-shadow: none;\n",
              "  }\n",
              "\n",
              "  .colab-df-spinner {\n",
              "    border: 2px solid var(--fill-color);\n",
              "    border-color: transparent;\n",
              "    border-bottom-color: var(--fill-color);\n",
              "    animation:\n",
              "      spin 1s steps(1) infinite;\n",
              "  }\n",
              "\n",
              "  @keyframes spin {\n",
              "    0% {\n",
              "      border-color: transparent;\n",
              "      border-bottom-color: var(--fill-color);\n",
              "      border-left-color: var(--fill-color);\n",
              "    }\n",
              "    20% {\n",
              "      border-color: transparent;\n",
              "      border-left-color: var(--fill-color);\n",
              "      border-top-color: var(--fill-color);\n",
              "    }\n",
              "    30% {\n",
              "      border-color: transparent;\n",
              "      border-left-color: var(--fill-color);\n",
              "      border-top-color: var(--fill-color);\n",
              "      border-right-color: var(--fill-color);\n",
              "    }\n",
              "    40% {\n",
              "      border-color: transparent;\n",
              "      border-right-color: var(--fill-color);\n",
              "      border-top-color: var(--fill-color);\n",
              "    }\n",
              "    60% {\n",
              "      border-color: transparent;\n",
              "      border-right-color: var(--fill-color);\n",
              "    }\n",
              "    80% {\n",
              "      border-color: transparent;\n",
              "      border-right-color: var(--fill-color);\n",
              "      border-bottom-color: var(--fill-color);\n",
              "    }\n",
              "    90% {\n",
              "      border-color: transparent;\n",
              "      border-bottom-color: var(--fill-color);\n",
              "    }\n",
              "  }\n",
              "</style>\n",
              "\n",
              "  <script>\n",
              "    async function quickchart(key) {\n",
              "      const quickchartButtonEl =\n",
              "        document.querySelector('#' + key + ' button');\n",
              "      quickchartButtonEl.disabled = true;  // To prevent multiple clicks.\n",
              "      quickchartButtonEl.classList.add('colab-df-spinner');\n",
              "      try {\n",
              "        const charts = await google.colab.kernel.invokeFunction(\n",
              "            'suggestCharts', [key], {});\n",
              "      } catch (error) {\n",
              "        console.error('Error during call to suggestCharts:', error);\n",
              "      }\n",
              "      quickchartButtonEl.classList.remove('colab-df-spinner');\n",
              "      quickchartButtonEl.classList.add('colab-df-quickchart-complete');\n",
              "    }\n",
              "    (() => {\n",
              "      let quickchartButtonEl =\n",
              "        document.querySelector('#df-08a175e1-0832-44fd-9084-b0ac8acecfce button');\n",
              "      quickchartButtonEl.style.display =\n",
              "        google.colab.kernel.accessAllowed ? 'block' : 'none';\n",
              "    })();\n",
              "  </script>\n",
              "</div>\n",
              "\n",
              "    </div>\n",
              "  </div>\n"
            ],
            "application/vnd.google.colaboratory.intrinsic+json": {
              "type": "dataframe",
              "summary": "{\n  \"name\": \"df\",\n  \"rows\": 5,\n  \"fields\": [\n    {\n      \"column\": \"count\",\n      \"properties\": {\n        \"dtype\": \"number\",\n        \"std\": 0.0,\n        \"min\": 137940.0,\n        \"max\": 137940.0,\n        \"num_unique_values\": 1,\n        \"samples\": [\n          137940.0\n        ],\n        \"semantic_type\": \"\",\n        \"description\": \"\"\n      }\n    },\n    {\n      \"column\": \"mean\",\n      \"properties\": {\n        \"dtype\": \"number\",\n        \"std\": 21490.10617051225,\n        \"min\": -47932.484375,\n        \"max\": 208.5,\n        \"num_unique_values\": 5,\n        \"samples\": [\n          208.5\n        ],\n        \"semantic_type\": \"\",\n        \"description\": \"\"\n      }\n    },\n    {\n      \"column\": \"std\",\n      \"properties\": {\n        \"dtype\": \"number\",\n        \"std\": 22378.81474944597,\n        \"min\": 0.7938558496095849,\n        \"max\": 50094.8359375,\n        \"num_unique_values\": 5,\n        \"samples\": [\n          120.66629834264684\n        ],\n        \"semantic_type\": \"\",\n        \"description\": \"\"\n      }\n    },\n    {\n      \"column\": \"min\",\n      \"properties\": {\n        \"dtype\": \"number\",\n        \"std\": 44732.80714605544,\n        \"min\": -99999.0,\n        \"max\": 77.56958303062595,\n        \"num_unique_values\": 4,\n        \"samples\": [\n          77.56958303062595\n        ],\n        \"semantic_type\": \"\",\n        \"description\": \"\"\n      }\n    },\n    {\n      \"column\": \"25%\",\n      \"properties\": {\n        \"dtype\": \"number\",\n        \"std\": 44753.77294623175,\n        \"min\": -99999.0,\n        \"max\": 104.0,\n        \"num_unique_values\": 5,\n        \"samples\": [\n          104.0\n        ],\n        \"semantic_type\": \"\",\n        \"description\": \"\"\n      }\n    },\n    {\n      \"column\": \"50%\",\n      \"properties\": {\n        \"dtype\": \"number\",\n        \"std\": 87.94154810538872,\n        \"min\": 1.3084230422973633,\n        \"max\": 208.5,\n        \"num_unique_values\": 5,\n        \"samples\": [\n          208.5\n        ],\n        \"semantic_type\": \"\",\n        \"description\": \"\"\n      }\n    },\n    {\n      \"column\": \"75%\",\n      \"properties\": {\n        \"dtype\": \"number\",\n        \"std\": 120.20953541794454,\n        \"min\": 30.778750069878164,\n        \"max\": 313.0,\n        \"num_unique_values\": 5,\n        \"samples\": [\n          313.0\n        ],\n        \"semantic_type\": \"\",\n        \"description\": \"\"\n      }\n    },\n    {\n      \"column\": \"max\",\n      \"properties\": {\n        \"dtype\": \"number\",\n        \"std\": 9615.983497557349,\n        \"min\": 31.462083400478164,\n        \"max\": 21713.5546875,\n        \"num_unique_values\": 5,\n        \"samples\": [\n          417.0\n        ],\n        \"semantic_type\": \"\",\n        \"description\": \"\"\n      }\n    }\n  ]\n}"
            }
          },
          "metadata": {},
          "execution_count": 7
        }
      ]
    }
  ]
}