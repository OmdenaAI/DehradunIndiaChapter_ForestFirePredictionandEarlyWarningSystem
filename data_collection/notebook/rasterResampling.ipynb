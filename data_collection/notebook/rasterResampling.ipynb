{
 "cells": [
  {
   "cell_type": "code",
   "execution_count": 1,
   "id": "cc4b664c",
   "metadata": {},
   "outputs": [],
   "source": [
    "import numpy as np\n",
    "import rasterio\n",
    "from rasterio.enums import Resampling\n"
   ]
  },
  {
   "cell_type": "code",
   "execution_count": 2,
   "id": "5926b6c2",
   "metadata": {},
   "outputs": [],
   "source": [
    "# Define file paths\n",
    "aspect_file = r\"D:\\ForestFires\\Elevation Data-20241206T115300Z-001\\Elevation Data\\Uttarakhand_Aspect2.tif\"\n",
    "slope_file = r\"D:\\ForestFires\\Elevation Data-20241206T115300Z-001\\Elevation Data\\Uttarakhand_Slope2.tif\"\n",
    "output_aspect = r\"D:\\ForestFires\\Elevation Data-20241206T115300Z-001\\Elevation Data\\Uttarakhand_Aspect_500m.tif\"\n",
    "output_slope = r\"D:\\ForestFires\\Elevation Data-20241206T115300Z-001\\Elevation Data\\Uttarakhand_Slope_500m.tif\"\n"
   ]
  },
  {
   "cell_type": "code",
   "execution_count": 3,
   "id": "7b134140",
   "metadata": {},
   "outputs": [],
   "source": [
    "# Resample function for Aspect\n",
    "def resample_aspect(input_file, output_file, scale_factor):\n",
    "    with rasterio.open(input_file) as src:\n",
    "        aspect = src.read(1)\n",
    "\n",
    "        # Convert aspect to sine and cosine\n",
    "        aspect_rad = np.deg2rad(aspect)\n",
    "        sin_aspect = np.sin(aspect_rad)\n",
    "        cos_aspect = np.cos(aspect_rad)\n",
    "\n",
    "        # Resample sine and cosine\n",
    "        sin_resampled = src.read(\n",
    "            1,\n",
    "            out_shape=(\n",
    "                int(src.height / scale_factor),\n",
    "                int(src.width / scale_factor)\n",
    "            ),\n",
    "            resampling=Resampling.average\n",
    "        )\n",
    "        cos_resampled = src.read(\n",
    "            1,\n",
    "            out_shape=(\n",
    "                int(src.height / scale_factor),\n",
    "                int(src.width / scale_factor)\n",
    "            ),\n",
    "            resampling=Resampling.average\n",
    "        )\n",
    "\n",
    "        # Calculate aggregated aspect\n",
    "        aggregated_aspect = np.arctan2(sin_resampled, cos_resampled)\n",
    "        aggregated_aspect_deg = (np.rad2deg(aggregated_aspect) + 360) % 360\n",
    "\n",
    "        # Save output\n",
    "        transform = src.transform * src.transform.scale(scale_factor, scale_factor)\n",
    "        with rasterio.open(\n",
    "            output_file,\n",
    "            \"w\",\n",
    "            driver=\"GTiff\",\n",
    "            height=aggregated_aspect_deg.shape[0],\n",
    "            width=aggregated_aspect_deg.shape[1],\n",
    "            count=1,\n",
    "            dtype=rasterio.float32,\n",
    "            crs=src.crs,\n",
    "            transform=transform\n",
    "        ) as dst:\n",
    "            dst.write(aggregated_aspect_deg, 1)"
   ]
  },
  {
   "cell_type": "code",
   "execution_count": 4,
   "id": "4cdfcc60",
   "metadata": {},
   "outputs": [],
   "source": [
    "# Resample function for Slope\n",
    "def resample_slope(input_file, output_file, scale_factor):\n",
    "    with rasterio.open(input_file) as src:\n",
    "        slope_resampled = src.read(\n",
    "            1,\n",
    "            out_shape=(\n",
    "                int(src.height / scale_factor),\n",
    "                int(src.width / scale_factor)\n",
    "            ),\n",
    "            resampling=Resampling.average\n",
    "        )\n",
    "\n",
    "        transform = src.transform * src.transform.scale(scale_factor, scale_factor)\n",
    "        with rasterio.open(\n",
    "            output_file,\n",
    "            \"w\",\n",
    "            driver=\"GTiff\",\n",
    "            height=slope_resampled.shape[0],\n",
    "            width=slope_resampled.shape[1],\n",
    "            count=1,\n",
    "            dtype=slope_resampled.dtype,\n",
    "            crs=src.crs,\n",
    "            transform=transform\n",
    "        ) as dst:\n",
    "            dst.write(slope_resampled, 1)\n",
    "\n"
   ]
  },
  {
   "cell_type": "code",
   "execution_count": 5,
   "id": "9cdd69d1",
   "metadata": {},
   "outputs": [
    {
     "name": "stdout",
     "output_type": "stream",
     "text": [
      "Resampling completed!\n"
     ]
    }
   ],
   "source": [
    "# Execute resampling\n",
    "scale_factor = 500 / 30  # Assuming input resolution is 30m\n",
    "resample_aspect(aspect_file, output_aspect, scale_factor)\n",
    "resample_slope(slope_file, output_slope, scale_factor)\n",
    "\n",
    "print(\"Resampling completed!\")"
   ]
  },
  {
   "cell_type": "code",
   "execution_count": 6,
   "id": "e53f1326",
   "metadata": {},
   "outputs": [],
   "source": [
    "# Define file paths\n",
    "input_file = r\"C:\\Users\\CiaX\\Downloads\\uttarakhand_pd_2020_1km.tif\"\n",
    "output_file = r\"C:\\Users\\CiaX\\Downloads\\uttarakhand_pd_2020_500m.tif\""
   ]
  },
  {
   "cell_type": "code",
   "execution_count": 7,
   "id": "7a0fa471",
   "metadata": {},
   "outputs": [],
   "source": [
    "# Resample function for population data\n",
    "def resample_population(input_file, output_file, scale_factor):\n",
    "    with rasterio.open(input_file) as src:\n",
    "        # Calculate new shape\n",
    "        new_height = int(src.height * scale_factor)\n",
    "        new_width = int(src.width * scale_factor)\n",
    "\n",
    "        # Read and resample data\n",
    "        data = src.read(\n",
    "            1,  # Reading the first band\n",
    "            out_shape=(src.count, new_height, new_width),\n",
    "            resampling=Resampling.bilinear  \n",
    "        )\n",
    "\n",
    "        # Adjust the transform to the new resolution\n",
    "        transform = src.transform * src.transform.scale(1 / scale_factor, 1 / scale_factor)\n",
    "\n",
    "        # Write the resampled data to a new file\n",
    "        with rasterio.open(\n",
    "            output_file,\n",
    "            \"w\",\n",
    "            driver=\"GTiff\",\n",
    "            height=new_height,\n",
    "            width=new_width,\n",
    "            count=1,\n",
    "            dtype=data.dtype,\n",
    "            crs=src.crs,\n",
    "            transform=transform\n",
    "        ) as dst:\n",
    "            dst.write(data, 1)"
   ]
  },
  {
   "cell_type": "code",
   "execution_count": 8,
   "id": "9c245a8a",
   "metadata": {},
   "outputs": [
    {
     "name": "stdout",
     "output_type": "stream",
     "text": [
      "Resampled population data saved to: C:\\Users\\CiaX\\Downloads\\uttarakhand_pd_2020_500m.tif\n"
     ]
    }
   ],
   "source": [
    "# Define scale factor for upsampling\n",
    "scale_factor = 2  # 1km to 500m requires doubling the resolution\n",
    "\n",
    "# Perform resampling\n",
    "resample_population(input_file, output_file, scale_factor)\n",
    "\n",
    "print(f\"Resampled population data saved to: {output_file}\")"
   ]
  }
 ],
 "metadata": {
  "kernelspec": {
   "display_name": "Python 3 (ipykernel)",
   "language": "python",
   "name": "python3"
  },
  "language_info": {
   "codemirror_mode": {
    "name": "ipython",
    "version": 3
   },
   "file_extension": ".py",
   "mimetype": "text/x-python",
   "name": "python",
   "nbconvert_exporter": "python",
   "pygments_lexer": "ipython3",
   "version": "3.11.8"
  }
 },
 "nbformat": 4,
 "nbformat_minor": 5
}
